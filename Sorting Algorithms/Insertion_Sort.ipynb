{
 "cells": [
  {
   "cell_type": "code",
   "execution_count": 20,
   "id": "df59e23a",
   "metadata": {},
   "outputs": [
    {
     "data": {
      "text/plain": [
       "[1, 55, 26, 59, 4]"
      ]
     },
     "execution_count": 20,
     "metadata": {},
     "output_type": "execute_result"
    }
   ],
   "source": [
    "# myArray adlı dizimize rastgele 0-100 arasında 5 sayı ekle\n",
    "import random\n",
    "myArray = []\n",
    "for i in range(5):\n",
    "    myArray.append(random.randint(0,100))\n",
    "myArray"
   ]
  },
  {
   "cell_type": "code",
   "execution_count": 21,
   "id": "159e1cac",
   "metadata": {},
   "outputs": [],
   "source": [
    "def insertionSort(arr):\n",
    "    for i in range(1, len(arr)):\n",
    "        temp = arr[i]  # Şu anki elemanı geçici bir değişkende sakla\n",
    "        j = i - 1  # Şu anki elemandan önceki indeksi işaret et\n",
    "\n",
    "        # Geçici elemanı doğru konuma yerleştirene kadar geriye doğru hareket et\n",
    "        while temp < arr[j] and j > -1:\n",
    "            arr[j + 1] = arr[j]  # Şu anki elemanı bir sonraki pozisyona kaydır\n",
    "            arr[j] = temp  # Geçici elemanı doğru pozisyona yerleştir\n",
    "            j -= 1  # Bir önceki elemana doğru hareket et\n",
    "\n",
    "    return arr  # Sıralanmış diziyi döndür           "
   ]
  },
  {
   "cell_type": "code",
   "execution_count": 22,
   "id": "5638484d",
   "metadata": {},
   "outputs": [
    {
     "data": {
      "text/plain": [
       "[1, 4, 26, 55, 59]"
      ]
     },
     "execution_count": 22,
     "metadata": {},
     "output_type": "execute_result"
    }
   ],
   "source": [
    "insertionSort(myArray)"
   ]
  },
  {
   "cell_type": "code",
   "execution_count": null,
   "id": "0f61e1b1",
   "metadata": {},
   "outputs": [],
   "source": []
  }
 ],
 "metadata": {
  "kernelspec": {
   "display_name": "Python 3 (ipykernel)",
   "language": "python",
   "name": "python3"
  },
  "language_info": {
   "codemirror_mode": {
    "name": "ipython",
    "version": 3
   },
   "file_extension": ".py",
   "mimetype": "text/x-python",
   "name": "python",
   "nbconvert_exporter": "python",
   "pygments_lexer": "ipython3",
   "version": "3.9.13"
  }
 },
 "nbformat": 4,
 "nbformat_minor": 5
}
