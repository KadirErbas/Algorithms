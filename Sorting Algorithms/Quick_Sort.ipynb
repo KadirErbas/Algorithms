{
 "cells": [
  {
   "cell_type": "code",
   "execution_count": 19,
   "id": "df59e23a",
   "metadata": {},
   "outputs": [
    {
     "data": {
      "text/plain": [
       "[46, 15, 44, 96, 4, 64, 97, 12]"
      ]
     },
     "execution_count": 19,
     "metadata": {},
     "output_type": "execute_result"
    }
   ],
   "source": [
    "# myArray adlı dizimize 0-100 arasında rastgele 8 sayı ekle\n",
    "import random\n",
    "myArray = []\n",
    "for i in range(8):\n",
    "    myArray.append(random.randint(0,100))\n",
    "myArray"
   ]
  },
  {
   "cell_type": "code",
   "execution_count": 20,
   "id": "5638484d",
   "metadata": {},
   "outputs": [],
   "source": [
    "def quickSort(arr):\n",
    "    if len(arr) <= 1:\n",
    "        return arr\n",
    "    \n",
    "    pivot = arr[0]  # Pivot elemanını seçiyoruz (burada dizinin ilk elemanını kullanıyoruz)\n",
    "    lesser = [x for x in arr[1:] if x <= pivot]  # Pivot'tan küçük veya eşit olan elemanları lesser listesine ekliyoruz\n",
    "    greater = [x for x in arr[1:] if x > pivot]  # Pivot'tan büyük olan elemanları greater listesine ekliyoruz\n",
    "    return quickSort(lesser) + [pivot] + quickSort(greater)  # Lesser, pivot ve greater listelerini Quick Sort algoritmasına recursive olarak uygulayarak birleştiriyoruz"
   ]
  },
  {
   "cell_type": "code",
   "execution_count": 18,
   "id": "0f61e1b1",
   "metadata": {},
   "outputs": [
    {
     "name": "stdout",
     "output_type": "stream",
     "text": [
      "[21, 22, 22, 28, 57, 64, 78, 83]\n"
     ]
    }
   ],
   "source": [
    "sorted_arr = quickSort(myArray)  # quickSort fonksiyonunu kullanarak diziyi sıralıyoruz\n",
    "print(sorted_arr)"
   ]
  }
 ],
 "metadata": {
  "kernelspec": {
   "display_name": "Python 3 (ipykernel)",
   "language": "python",
   "name": "python3"
  },
  "language_info": {
   "codemirror_mode": {
    "name": "ipython",
    "version": 3
   },
   "file_extension": ".py",
   "mimetype": "text/x-python",
   "name": "python",
   "nbconvert_exporter": "python",
   "pygments_lexer": "ipython3",
   "version": "3.9.13"
  }
 },
 "nbformat": 4,
 "nbformat_minor": 5
}
