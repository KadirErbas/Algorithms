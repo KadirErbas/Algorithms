{
 "cells": [
  {
   "cell_type": "code",
   "execution_count": 3,
   "id": "df59e23a",
   "metadata": {},
   "outputs": [
    {
     "data": {
      "text/plain": [
       "[49, 66, 34, 24, 4]"
      ]
     },
     "execution_count": 3,
     "metadata": {},
     "output_type": "execute_result"
    }
   ],
   "source": [
    "# myArray adlı dizimize rastgele 0-100 arasında 5 sayı ekle\n",
    "import random\n",
    "myArray = []\n",
    "for i in range(5):\n",
    "    myArray.append(random.randint(0,100))\n",
    "myArray"
   ]
  },
  {
   "cell_type": "code",
   "execution_count": 4,
   "id": "56c97017",
   "metadata": {},
   "outputs": [],
   "source": [
    "def Selection_Sort(arr):\n",
    "    # Dizinin her bir elemanı için döngü oluşturulur\n",
    "    for i in range(len(arr) - 1):\n",
    "        # Minimum değer için indeks başlangıçta mevcut elemanın indeksi olarak atanır\n",
    "        min_index = i\n",
    "\n",
    "        # Minimum değeri bulmak için kalan elemanlarla karşılaştırma yapılır\n",
    "        for j in range(i + 1, len(arr)):\n",
    "            # Eğer mevcut elemandan daha küçük bir eleman bulunursa,\n",
    "            # minimum değerin indeksi güncellenir\n",
    "            if arr[min_index] > arr[j]:\n",
    "                min_index = j\n",
    "\n",
    "        # Eğer minimum değerin indeksi değiştiyse, yer değiştirme işlemi yapılır\n",
    "        if i != min_index:\n",
    "            arr[i], arr[min_index] = arr[min_index], arr[i]\n",
    "\n",
    "    return arr"
   ]
  },
  {
   "cell_type": "code",
   "execution_count": 5,
   "id": "68b561de",
   "metadata": {},
   "outputs": [
    {
     "data": {
      "text/plain": [
       "[4, 24, 34, 49, 66]"
      ]
     },
     "execution_count": 5,
     "metadata": {},
     "output_type": "execute_result"
    }
   ],
   "source": [
    "Selection_Sort(myArray)"
   ]
  }
 ],
 "metadata": {
  "kernelspec": {
   "display_name": "Python 3 (ipykernel)",
   "language": "python",
   "name": "python3"
  },
  "language_info": {
   "codemirror_mode": {
    "name": "ipython",
    "version": 3
   },
   "file_extension": ".py",
   "mimetype": "text/x-python",
   "name": "python",
   "nbconvert_exporter": "python",
   "pygments_lexer": "ipython3",
   "version": "3.9.13"
  }
 },
 "nbformat": 4,
 "nbformat_minor": 5
}
