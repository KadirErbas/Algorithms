{
 "cells": [
  {
   "cell_type": "code",
   "execution_count": 1,
   "id": "df59e23a",
   "metadata": {},
   "outputs": [
    {
     "data": {
      "text/plain": [
       "[27, 51, 31, 61, 72]"
      ]
     },
     "execution_count": 1,
     "metadata": {},
     "output_type": "execute_result"
    }
   ],
   "source": [
    "# myArray adlı dizimize rastgele 0-100 arasında 5 sayı ekle\n",
    "import random\n",
    "myArray = []\n",
    "for i in range(5):\n",
    "    myArray.append(random.randint(0,100))\n",
    "myArray   "
   ]
  },
  {
   "cell_type": "code",
   "execution_count": 2,
   "id": "9742f47f",
   "metadata": {},
   "outputs": [],
   "source": [
    "def Bubble_Sort(arr):\n",
    "    # Dizinin boyutu kadar döngü oluşturulur\n",
    "    for i in range(len(arr) - 1, 0, -1):\n",
    "        # Her adımda dizinin bir elemanıyla diğer elemanlar karşılaştırılır\n",
    "        for j in range(i):\n",
    "            # Eğer bir önceki eleman, bir sonraki elemandan daha büyükse\n",
    "            if arr[j] > arr[j+1]:\n",
    "                # Yer değiştime işlemi gerçekleşir\n",
    "                arr[j], arr[j+1] = arr[j+1], arr[j]\n",
    "    return arr"
   ]
  },
  {
   "cell_type": "code",
   "execution_count": 3,
   "id": "bf568f8c",
   "metadata": {},
   "outputs": [
    {
     "data": {
      "text/plain": [
       "[27, 31, 51, 61, 72]"
      ]
     },
     "execution_count": 3,
     "metadata": {},
     "output_type": "execute_result"
    }
   ],
   "source": [
    "Bubble_Sort(myArray)"
   ]
  },
  {
   "cell_type": "code",
   "execution_count": null,
   "id": "20aa8384",
   "metadata": {},
   "outputs": [],
   "source": []
  }
 ],
 "metadata": {
  "kernelspec": {
   "display_name": "Python 3 (ipykernel)",
   "language": "python",
   "name": "python3"
  },
  "language_info": {
   "codemirror_mode": {
    "name": "ipython",
    "version": 3
   },
   "file_extension": ".py",
   "mimetype": "text/x-python",
   "name": "python",
   "nbconvert_exporter": "python",
   "pygments_lexer": "ipython3",
   "version": "3.9.13"
  }
 },
 "nbformat": 4,
 "nbformat_minor": 5
}
