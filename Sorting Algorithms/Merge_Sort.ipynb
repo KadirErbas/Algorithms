{
 "cells": [
  {
   "cell_type": "code",
   "execution_count": 128,
   "id": "df59e23a",
   "metadata": {},
   "outputs": [
    {
     "data": {
      "text/plain": [
       "[12, 51, 94, 24, 34, 25, 80, 1]"
      ]
     },
     "execution_count": 128,
     "metadata": {},
     "output_type": "execute_result"
    }
   ],
   "source": [
    "# myArray adlı dizimize rastgele 0-100 arasında 8 sayı ekle\n",
    "import random\n",
    "myArray = []\n",
    "for i in range(8):\n",
    "    myArray.append(random.randint(0,100))\n",
    "myArray"
   ]
  },
  {
   "cell_type": "code",
   "execution_count": 129,
   "id": "5638484d",
   "metadata": {},
   "outputs": [],
   "source": [
    "def merge(arr1, arr2):\n",
    "    # İki dizi üzerinde hareket etmek için işaretçileri tanımla\n",
    "    firstPointer = 0\n",
    "    secondPointer = 0\n",
    "    mergedArr = []  # Birleştirilmiş dizi\n",
    "    \n",
    "    # İki dizi üzerinde gezinirken işaretçilerin sınırlarını kontrol et\n",
    "    while firstPointer < len(arr1) and secondPointer < len(arr2):\n",
    "        # İlk dizi elemanı ikinci dizinin elemanından küçükse\n",
    "        if arr1[firstPointer] < arr2[secondPointer]:\n",
    "            mergedArr.append(arr1[firstPointer])  # Birleştirilmiş diziye ekle\n",
    "            firstPointer += 1  # İlk dizi işaretçisini bir sonraki elemana ilerlet\n",
    "            \n",
    "        else:\n",
    "            mergedArr.append(arr2[secondPointer])  # Birleştirilmiş diziye ekle\n",
    "            secondPointer += 1  # İkinci dizi işaretçisini bir sonraki elemana ilerlet\n",
    "            \n",
    "    # İlk dizi üzerinde kalan elemanları birleştirilmiş diziye ekle\n",
    "    while firstPointer < len(arr1):\n",
    "        mergedArr.append(arr1[firstPointer])\n",
    "        firstPointer += 1\n",
    "        \n",
    "    # İkinci dizi üzerinde kalan elemanları birleştirilmiş diziye ekle\n",
    "    while secondPointer < len(arr2):\n",
    "        mergedArr.append(arr2[secondPointer])\n",
    "        secondPointer += 1\n",
    "        \n",
    "    return mergedArr\n"
   ]
  },
  {
   "cell_type": "code",
   "execution_count": 130,
   "id": "0f61e1b1",
   "metadata": {},
   "outputs": [],
   "source": [
    "def mergeSort(arr):\n",
    "    # Dizinin uzunluğu 1'e eşitse, dizi sıralanmış olarak kabul edilir\n",
    "    if len(arr) == 1:\n",
    "        return arr\n",
    "    \n",
    "    midPoint = int(len(arr) / 2)  # Dizinin orta noktasını bul\n",
    "\n",
    "    # Diziyi ikiye bölerek sol ve sağ parçalara ayır\n",
    "    leftPart = arr[:midPoint]  # Sol parça\n",
    "    rightPart = arr[midPoint:]  # Sağ parça\n",
    "\n",
    "    # Sol ve sağ parçaları ayrı ayrı mergeSort fonksiyonuna göndererek sırala\n",
    "    sortedLeftPart = mergeSort(leftPart)  # Sol parçayı sırala\n",
    "    sortedRightPart = mergeSort(rightPart)  # Sağ parçayı sırala\n",
    "\n",
    "    # Sıralanmış sol ve sağ parçaları birleştirerek sonuç dizisini oluştur\n",
    "    sortedArr = merge(sortedLeftPart, sortedRightPart)\n",
    "    \n",
    "    return sortedArr\n"
   ]
  },
  {
   "cell_type": "code",
   "execution_count": 131,
   "id": "5f4617ae",
   "metadata": {},
   "outputs": [
    {
     "data": {
      "text/plain": [
       "[1, 12, 24, 25, 34, 51, 80, 94]"
      ]
     },
     "execution_count": 131,
     "metadata": {},
     "output_type": "execute_result"
    }
   ],
   "source": [
    "mergeSort(myArray)"
   ]
  }
 ],
 "metadata": {
  "kernelspec": {
   "display_name": "Python 3 (ipykernel)",
   "language": "python",
   "name": "python3"
  },
  "language_info": {
   "codemirror_mode": {
    "name": "ipython",
    "version": 3
   },
   "file_extension": ".py",
   "mimetype": "text/x-python",
   "name": "python",
   "nbconvert_exporter": "python",
   "pygments_lexer": "ipython3",
   "version": "3.9.13"
  }
 },
 "nbformat": 4,
 "nbformat_minor": 5
}
